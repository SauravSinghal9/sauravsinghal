{
 "cells": [
  {
   "cell_type": "code",
   "execution_count": 2,
   "id": "7a1d8917",
   "metadata": {},
   "outputs": [
    {
     "name": "stdout",
     "output_type": "stream",
     "text": [
      "30\n"
     ]
    }
   ],
   "source": [
    "A= 10\n",
    "B=20\n",
    "print(A+B)"
   ]
  },
  {
   "cell_type": "code",
   "execution_count": 3,
   "id": "4069259e",
   "metadata": {},
   "outputs": [
    {
     "name": "stdout",
     "output_type": "stream",
     "text": [
      "r u mad\n"
     ]
    }
   ],
   "source": [
    "a = '6512'\n",
    "b = '45'\n",
    "print ('r u mad')"
   ]
  },
  {
   "cell_type": "code",
   "execution_count": null,
   "id": "7b050b1e",
   "metadata": {},
   "outputs": [],
   "source": []
  }
 ],
 "metadata": {
  "kernelspec": {
   "display_name": "Python 3",
   "language": "python",
   "name": "python3"
  },
  "language_info": {
   "codemirror_mode": {
    "name": "ipython",
    "version": 3
   },
   "file_extension": ".py",
   "mimetype": "text/x-python",
   "name": "python",
   "nbconvert_exporter": "python",
   "pygments_lexer": "ipython3",
   "version": "3.8.8"
  }
 },
 "nbformat": 4,
 "nbformat_minor": 5
}
